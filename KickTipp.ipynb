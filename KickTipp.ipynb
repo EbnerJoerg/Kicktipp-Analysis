{
  "nbformat": 4,
  "nbformat_minor": 0,
  "metadata": {
    "colab": {
      "name": "KickTipp.ipynb",
      "provenance": [],
      "collapsed_sections": []
    },
    "kernelspec": {
      "name": "python3",
      "display_name": "Python 3"
    },
    "language_info": {
      "name": "python"
    }
  },
  "cells": [
    {
      "cell_type": "code",
      "metadata": {
        "id": "KlBWIQwu_-4y",
        "colab": {
          "base_uri": "https://localhost:8080/"
        },
        "outputId": "90e4d2fc-996c-4538-8365-649c7021415d"
      },
      "source": [
        "import requests\n",
        "from bs4 import BeautifulSoup\n",
        "import pandas as pd\n",
        "import numpy as np\n",
        "import pickle as pkl\n",
        "# if on google colab:\n",
        "from google.colab import drive\n",
        "drive.mount('/content/drive', force_remount=True)"
      ],
      "execution_count": null,
      "outputs": [
        {
          "output_type": "stream",
          "name": "stdout",
          "text": [
            "Mounted at /content/drive\n"
          ]
        }
      ]
    },
    {
      "cell_type": "code",
      "metadata": {
        "id": "YFPASiD_AGA-"
      },
      "source": [
        "path_data = '/Bundesliga/'"
      ],
      "execution_count": null,
      "outputs": []
    },
    {
      "cell_type": "code",
      "metadata": {
        "id": "bebNhMMYBYsb"
      },
      "source": [
        "teilnehmer = dict()\n",
        "teilnehmer[27362851] = 'Hacky'\n",
        "teilnehmer[29318134] = 'Lars'\n",
        "teilnehmer[29140453] = 'Dieter'\n",
        "teilnehmer[26252098] = 'Henning'\n",
        "teilnehmer[28320912] = 'Mirco'\n",
        "teilnehmer[27383335] = 'Tobi89'\n",
        "teilnehmer[29615386] = 'Johann-Lfbg'\n",
        "teilnehmer[25768036] = 'Jörg'\n",
        "teilnehmer[27922747] = 'OliverB'\n",
        "teilnehmer[26242499] = 'onurb'\n",
        "teilnehmer[26482402] = 'Schübbel'\n",
        "teilnehmer[29140352] = 'Carina'\n",
        "teilnehmer[26324257] = 'Oeschgie'\n",
        "teilnehmer[26032575] = 'Seppi'\n",
        "teilnehmer[30143645] = 'Tim'\n",
        "teilnehmer[28082788] = 'MarcW'\n",
        "teilnehmer[26333953] = 'Helga'\n",
        "teilnehmer[26566383] = 'Jürgen'\n",
        "teilnehmer[29227465] = 'Thomas'"
      ],
      "execution_count": null,
      "outputs": []
    },
    {
      "cell_type": "code",
      "source": [
        "teams = {}\n",
        "teams[\"FCA\"] = 1\n",
        "teams[\"FCB\"] = 2\n",
        "teams[\"ArmB\"] = 3\n",
        "teams[\"Herth\"] = 4\n",
        "teams[\"Boch\"] = 5\n",
        "teams[\"BVB\"] = 6\n",
        "teams[\"SGE\"] = 7\n",
        "teams[\"Frei\"] = 8\n",
        "teams[\"GrFü\"] = 9\n",
        "teams[\"Hoff\"] = 10\n",
        "teams[\"Köln\"] = 11\n",
        "teams[\"Leip\"] = 12\n",
        "teams[\"Lev\"] = 13\n",
        "teams[\"M05\"] = 14\n",
        "teams[\"BMG\"] = 15 \n",
        "teams[\"Stgt\"] = 16\n",
        "teams[\"Union\"] = 17\n",
        "teams[\"Wolf\"] = 18"
      ],
      "metadata": {
        "id": "tJoIMdOCu9oR"
      },
      "execution_count": null,
      "outputs": []
    },
    {
      "cell_type": "code",
      "source": [
        "def scrape_tipps(spieltag):\n",
        "  tt = np.zeros((34,len(teilnehmer)+1,19))\n",
        "  filename = path_data + 'tipps.pkl'\n",
        "  try: # if file exists\n",
        "    with open(filename, 'rb') as f:\n",
        "        tt = pkl.load(f)\n",
        "    for j in range(34):\n",
        "      for i in range(9):\n",
        "        if sum(sum(tt[j,1:,i+1:i+3])) == 0:\n",
        "          print(\"ab Spieltag {} scrapen\".format(j+1))\n",
        "          s = j+1\n",
        "          break\n",
        "      if 's' in locals():\n",
        "        break\n",
        "  except:\n",
        "    pass\n",
        "  if 's' not in locals():\n",
        "    s = 1\n",
        "  for i in range(1,spieltag+1): \n",
        "      tipptable = np.zeros((len(teilnehmer)+1,19),dtype=float)\n",
        "      URL = 'https://www.kicktipp.de/tippbuli-1718/tippuebersicht?&spieltagIndex=' + str(i)\n",
        "      page = requests.get(URL)\n",
        "      soup = BeautifulSoup(page.content, \"html.parser\")\n",
        "      for j in range(9):\n",
        "        spiel = soup.find(class_=\"ereignis nw ereignis\" + str(j))\n",
        "        team = BeautifulSoup(str(spiel), \"html.parser\")\n",
        "        tea = team.find_all(class_=\"headerbox\")\n",
        "        tipptable[0][1+j*2] = teams[tea[0].text]\n",
        "        tipptable[0][2+j*2] = teams[tea[1].text]\n",
        "      # print(tipptable[0])\n",
        "      tabelle = soup.find(class_=\"tippuebersicht ktable\")\n",
        "      tipper = BeautifulSoup(str(tabelle), \"html.parser\")\n",
        "      tipper = tipper.find_all('tr')\n",
        "      spiele = tipper[0]\n",
        "      tipper = tipper[1:]\n",
        "\n",
        "      for j in range(len(teilnehmer)):\n",
        "        tipper1 = BeautifulSoup(str(tipper[j]), 'html.parser')\n",
        "        name1 = tipper1.find(class_=\"mg_name\").text\n",
        "        tid = list(teilnehmer.keys())[list(teilnehmer.values()).index(str(name1))]\n",
        "        tipptable[j+1][0] = tid\n",
        "        tipper1 = tipper1.find_all('td')[3:12]\n",
        "        import re\n",
        "        for k in range(9):\n",
        "          result = re.search('ereignis' + str(k) + '\">(.*)<', str(tipper1[k]))\n",
        "          try:\n",
        "            result = str(result.group(1)).split('<')[0]\n",
        "            tipptable[j+1][1+2*k] = result.split(':')[0]\n",
        "            tipptable[j+1][2+2*k] = result.split(':')[1]\n",
        "          except:\n",
        "            tipptable[j+1][1+2*k] = np.nan\n",
        "            tipptable[j+1][2+2*k] = np.nan\n",
        "      tt[i-1] = tipptable\n",
        "  with open(filename,'wb') as f:\n",
        "    pkl.dump(tt, f)"
      ],
      "metadata": {
        "id": "60x8kAmz0K06"
      },
      "execution_count": null,
      "outputs": []
    },
    {
      "cell_type": "code",
      "metadata": {
        "id": "1hPOrDfvG2Bv"
      },
      "source": [
        "scrape_tipps(21)"
      ],
      "execution_count": null,
      "outputs": []
    }
  ]
}
